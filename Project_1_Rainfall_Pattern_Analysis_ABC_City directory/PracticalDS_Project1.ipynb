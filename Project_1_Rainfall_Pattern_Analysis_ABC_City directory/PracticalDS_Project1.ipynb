{
 "cells": [
  {
   "cell_type": "markdown",
   "metadata": {
    "id": "u-EEv9utoT69"
   },
   "source": [
    "# Task 1: Data Preparation\n"
   ]
  },
  {
   "cell_type": "markdown",
   "metadata": {},
   "source": [
    "**Objective:** The aim of this task is to carefully inspect and prepare the provided Daily Rainfall Climate Data from the Australian Government's Bureau of Meteorology for analysis. This involves loading the CSV data from the specified file, ensuring its equivalence to the source, and addressing any potential issues or errors through data cleaning techniques taught in lectures. Finally, the cleaned data will be saved into a comma-separated values (CSV) file named 'cleaned_version.csv', ready for further analysis."
   ]
  },
  {
   "cell_type": "markdown",
   "metadata": {},
   "source": [
    "Let's start by loading the data which contains daily \n",
    "rainfall climate data between 2013 and 2023 in ABC city\r"
   ]
  },
  {
   "cell_type": "code",
   "execution_count": 2,
   "metadata": {
    "id": "Qykq4YuQtZUS"
   },
   "outputs": [],
   "source": [
    "# Read csv in dataframe and check for bad lines\n",
    "import pandas as pd\n",
    "\n",
    "# Load the CSV file into a DataFrame. separtor is ','. Decimal points are '.'. Headers are the first row. We rename the headers.\n",
    "DRC = pd.read_csv('Data.csv', sep =',', decimal='.', header=0, \n",
    "                      names=['year', 'month', 'day', 'Rainfall_mm'], on_bad_lines='warn') # Pandas 2.2 (stable) version in use. Change this to error_bad_line = False if using lesser version of Pandas."
   ]
  },
  {
   "cell_type": "markdown",
   "metadata": {},
   "source": [
    "##### Check whether the loaded data is equivalent to the data in the source CSV file"
   ]
  },
  {
   "cell_type": "markdown",
   "metadata": {},
   "source": [
    "Source data is a csv file, so we visually inspect the loaded data to ensure it matches the expected format and values from the source file."
   ]
  },
  {
   "cell_type": "code",
   "execution_count": 3,
   "metadata": {},
   "outputs": [
    {
     "data": {
      "text/html": [
       "<div>\n",
       "<style scoped>\n",
       "    .dataframe tbody tr th:only-of-type {\n",
       "        vertical-align: middle;\n",
       "    }\n",
       "\n",
       "    .dataframe tbody tr th {\n",
       "        vertical-align: top;\n",
       "    }\n",
       "\n",
       "    .dataframe thead th {\n",
       "        text-align: right;\n",
       "    }\n",
       "</style>\n",
       "<table border=\"1\" class=\"dataframe\">\n",
       "  <thead>\n",
       "    <tr style=\"text-align: right;\">\n",
       "      <th></th>\n",
       "      <th>year</th>\n",
       "      <th>month</th>\n",
       "      <th>day</th>\n",
       "      <th>Rainfall_mm</th>\n",
       "    </tr>\n",
       "  </thead>\n",
       "  <tbody>\n",
       "    <tr>\n",
       "      <th>0</th>\n",
       "      <td>2013</td>\n",
       "      <td>6</td>\n",
       "      <td>2</td>\n",
       "      <td>5.0</td>\n",
       "    </tr>\n",
       "    <tr>\n",
       "      <th>1</th>\n",
       "      <td>2013</td>\n",
       "      <td>6</td>\n",
       "      <td>3</td>\n",
       "      <td>0.2</td>\n",
       "    </tr>\n",
       "    <tr>\n",
       "      <th>2</th>\n",
       "      <td>2013</td>\n",
       "      <td>6</td>\n",
       "      <td>4</td>\n",
       "      <td>0.2</td>\n",
       "    </tr>\n",
       "    <tr>\n",
       "      <th>3</th>\n",
       "      <td>2013</td>\n",
       "      <td>6</td>\n",
       "      <td>5</td>\n",
       "      <td>0.0</td>\n",
       "    </tr>\n",
       "    <tr>\n",
       "      <th>4</th>\n",
       "      <td>2013</td>\n",
       "      <td>6</td>\n",
       "      <td>6</td>\n",
       "      <td>0.0</td>\n",
       "    </tr>\n",
       "  </tbody>\n",
       "</table>\n",
       "</div>"
      ],
      "text/plain": [
       "   year month day  Rainfall_mm\n",
       "0  2013     6   2          5.0\n",
       "1  2013     6   3          0.2\n",
       "2  2013     6   4          0.2\n",
       "3  2013     6   5          0.0\n",
       "4  2013     6   6          0.0"
      ]
     },
     "execution_count": 3,
     "metadata": {},
     "output_type": "execute_result"
    }
   ],
   "source": [
    "# Display the first few rows of the DataFrame to inspect the data\n",
    "DRC.head()"
   ]
  },
  {
   "cell_type": "code",
   "execution_count": 4,
   "metadata": {
    "id": "RU9Pm6LKfToO"
   },
   "outputs": [
    {
     "data": {
      "text/plain": [
       "(3865, 4)"
      ]
     },
     "execution_count": 4,
     "metadata": {},
     "output_type": "execute_result"
    }
   ],
   "source": [
    "# Our csv file has 3865 rows in total excluding the headers. And 4 columns. Lets Check number of columns and row in our dataframe\n",
    "DRC.shape"
   ]
  },
  {
   "cell_type": "markdown",
   "metadata": {},
   "source": [
    "Data looks same as in the csv file with 4 columns and 3865 rows. Data is loaded fully."
   ]
  },
  {
   "cell_type": "markdown",
   "metadata": {},
   "source": [
    "### Data Cleaning (Data entry, impossible values, missing values, outliers, and sanity check): "
   ]
  },
  {
   "cell_type": "markdown",
   "metadata": {},
   "source": [
    "Data cleaning is a multi-step process.\n",
    "We will look at data entry errors, redundant white spaces, impossible values/sanity checks, missing values, checking for outliers"
   ]
  },
  {
   "cell_type": "markdown",
   "metadata": {},
   "source": [
    "Lets begin by checking the data types of the columns"
   ]
  },
  {
   "cell_type": "code",
   "execution_count": 5,
   "metadata": {},
   "outputs": [
    {
     "data": {
      "text/plain": [
       "year             int64\n",
       "month           object\n",
       "day             object\n",
       "Rainfall_mm    float64\n",
       "dtype: object"
      ]
     },
     "execution_count": 5,
     "metadata": {},
     "output_type": "execute_result"
    }
   ],
   "source": [
    "# Check data types of the columns.\n",
    "DRC.dtypes"
   ]
  },
  {
   "cell_type": "markdown",
   "metadata": {},
   "source": [
    "Month and day columns are object type probably due to inconsistencies. Lets fix data inconsistencies from all the columns"
   ]
  },
  {
   "cell_type": "markdown",
   "metadata": {},
   "source": [
    "### Step 1: Handle Data entry errors"
   ]
  },
  {
   "cell_type": "markdown",
   "metadata": {},
   "source": [
    "We will check the values each column holds. Lets begin with the first column, year"
   ]
  },
  {
   "cell_type": "markdown",
   "metadata": {},
   "source": [
    "#### For Column 1: 'year'"
   ]
  },
  {
   "cell_type": "code",
   "execution_count": 6,
   "metadata": {},
   "outputs": [
    {
     "data": {
      "text/plain": [
       "array([2013, 2014, 2015, 2016, 2017, 2018, 2019, 2020, 2021, 2022, 2023,\n",
       "       2027], dtype=int64)"
      ]
     },
     "execution_count": 6,
     "metadata": {},
     "output_type": "execute_result"
    }
   ],
   "source": [
    "# Get distinct values for year column\n",
    "DRC['year'].sort_values().unique()"
   ]
  },
  {
   "cell_type": "markdown",
   "metadata": {},
   "source": [
    "Year 2027 is a future value and not possible. To fix this, lets inspect the rows around this record. "
   ]
  },
  {
   "cell_type": "code",
   "execution_count": 7,
   "metadata": {},
   "outputs": [
    {
     "data": {
      "text/plain": [
       "Index([1404], dtype='int64')"
      ]
     },
     "execution_count": 7,
     "metadata": {},
     "output_type": "execute_result"
    }
   ],
   "source": [
    "# Get the index of row(s) where the \"Year\" column has the value 2027\n",
    "index_2027 = DRC[DRC['year'] == 2027].index\n",
    "index_2027"
   ]
  },
  {
   "cell_type": "code",
   "execution_count": 8,
   "metadata": {},
   "outputs": [
    {
     "name": "stdout",
     "output_type": "stream",
     "text": [
      "Rows at indices [1403, 1405] :\n",
      "       year month day  Rainfall_mm\n",
      "1403  2017     4   5          0.0\n",
      "1405  2017     4   7          0.0\n"
     ]
    }
   ],
   "source": [
    "# check the rows right before and after row index 1404. \n",
    "indices = [1403, 1405] \n",
    "\n",
    "# Get the rows at the specified indices\n",
    "rows = DRC.iloc[indices]\n",
    "\n",
    "# Print the rows\n",
    "print(\"Rows at indices\", indices, \":\\n\", rows)"
   ]
  },
  {
   "cell_type": "markdown",
   "metadata": {},
   "source": [
    "It is evident that 2017 was wrongly input as 2027. Lets fix this using the replace()"
   ]
  },
  {
   "cell_type": "code",
   "execution_count": 9,
   "metadata": {},
   "outputs": [],
   "source": [
    "# Replace year 2027 with 2017\n",
    "DRC['year'].replace(2027, 2017, inplace=True) # inplace = True makes the changes in the dataframe permanently"
   ]
  },
  {
   "cell_type": "markdown",
   "metadata": {},
   "source": [
    "Check if the issue is fixed - "
   ]
  },
  {
   "cell_type": "code",
   "execution_count": 10,
   "metadata": {},
   "outputs": [
    {
     "data": {
      "text/plain": [
       "year\n",
       "2013    213\n",
       "2014    365\n",
       "2015    365\n",
       "2016    366\n",
       "2017    365\n",
       "2018    365\n",
       "2019    365\n",
       "2020    366\n",
       "2021    365\n",
       "2022    365\n",
       "2023    365\n",
       "Name: count, dtype: int64"
      ]
     },
     "execution_count": 10,
     "metadata": {},
     "output_type": "execute_result"
    }
   ],
   "source": [
    "DRC['year'].value_counts().sort_index()"
   ]
  },
  {
   "cell_type": "markdown",
   "metadata": {},
   "source": [
    "#### For Column 2: 'month'"
   ]
  },
  {
   "cell_type": "code",
   "execution_count": 11,
   "metadata": {},
   "outputs": [
    {
     "data": {
      "text/plain": [
       "array(['6', '7', '8', '9', '10', '11', '12', '1', '2', '3', '4', '5',\n",
       "       'April', 'Jan', nan], dtype=object)"
      ]
     },
     "execution_count": 11,
     "metadata": {},
     "output_type": "execute_result"
    }
   ],
   "source": [
    "# Get distinct values for month column\n",
    "DRC['month'].unique()"
   ]
  },
  {
   "cell_type": "markdown",
   "metadata": {},
   "source": [
    "Clearly, April and Jan months are input as strings rather than integers. Fixing this using replace() -"
   ]
  },
  {
   "cell_type": "code",
   "execution_count": 12,
   "metadata": {},
   "outputs": [],
   "source": [
    "# Replace month Jan and April with 1 and 4 respectively\n",
    "DRC['month'].replace({'Jan': 1, 'April': 4}, inplace=True)"
   ]
  },
  {
   "cell_type": "markdown",
   "metadata": {},
   "source": [
    "#### For Column 3: 'day'"
   ]
  },
  {
   "cell_type": "code",
   "execution_count": 13,
   "metadata": {},
   "outputs": [
    {
     "data": {
      "text/plain": [
       "array(['2', '3', '4', '5', '6', '7', '8', '9', '10', '11', '12', '13',\n",
       "       '14', '15', '16', '17', '18', '19', '20', '21', '22', '23', '24',\n",
       "       '25', '26', '27', '28', '29', '30', '1', '31', '48', nan, 'nine',\n",
       "       '200'], dtype=object)"
      ]
     },
     "execution_count": 13,
     "metadata": {},
     "output_type": "execute_result"
    }
   ],
   "source": [
    "# Get distinct values for day column\n",
    "DRC['day'].unique()"
   ]
  },
  {
   "cell_type": "markdown",
   "metadata": {},
   "source": [
    "Values 48, nine and 200 are not possible and are data entry errors. Lets fix them -"
   ]
  },
  {
   "cell_type": "markdown",
   "metadata": {},
   "source": [
    "##### Fixing day value 48"
   ]
  },
  {
   "cell_type": "code",
   "execution_count": 14,
   "metadata": {},
   "outputs": [
    {
     "data": {
      "text/plain": [
       "Index([1714], dtype='int64')"
      ]
     },
     "execution_count": 14,
     "metadata": {},
     "output_type": "execute_result"
    }
   ],
   "source": [
    "# Get the index of row(s) where the \"day\" column has the value 48\n",
    "index_48 = DRC[DRC['day'] == '48'].index\n",
    "index_48"
   ]
  },
  {
   "cell_type": "code",
   "execution_count": 15,
   "metadata": {},
   "outputs": [
    {
     "name": "stdout",
     "output_type": "stream",
     "text": [
      "Rows at indices [1713, 1715] :\n",
      "       year month day  Rainfall_mm\n",
      "1713  2018     2   9          0.0\n",
      "1715  2018     2  11          0.0\n"
     ]
    }
   ],
   "source": [
    "# check the rows right before and after row index 1714. \n",
    "indices = [1713, 1715]  \n",
    "\n",
    "# Get the rows at the specified indices\n",
    "rows = DRC.iloc[indices]\n",
    "\n",
    "# Print the rows\n",
    "print(\"Rows at indices\", indices, \":\\n\", rows)"
   ]
  },
  {
   "cell_type": "markdown",
   "metadata": {},
   "source": [
    "It is evident that 10 was wrongly input as 48. Fixing this using replace() -"
   ]
  },
  {
   "cell_type": "code",
   "execution_count": 16,
   "metadata": {},
   "outputs": [],
   "source": [
    "DRC['day'].replace({'48': 10}, inplace=True)"
   ]
  },
  {
   "cell_type": "markdown",
   "metadata": {},
   "source": [
    "##### Fixing day value 200"
   ]
  },
  {
   "cell_type": "code",
   "execution_count": 17,
   "metadata": {},
   "outputs": [
    {
     "data": {
      "text/plain": [
       "Index([3853], dtype='int64')"
      ]
     },
     "execution_count": 17,
     "metadata": {},
     "output_type": "execute_result"
    }
   ],
   "source": [
    "# Get the index of row(s) where the \"day\" column has the value 200\n",
    "index_200 = DRC[DRC['day'] == '200'].index\n",
    "index_200"
   ]
  },
  {
   "cell_type": "code",
   "execution_count": 18,
   "metadata": {},
   "outputs": [
    {
     "name": "stdout",
     "output_type": "stream",
     "text": [
      "Rows at indices [3852, 3854] :\n",
      "       year month day  Rainfall_mm\n",
      "3852  2023    12  19          4.0\n",
      "3854  2023    12  21          0.0\n"
     ]
    }
   ],
   "source": [
    "# check the rows right before and after row index 3853. \n",
    "indices = [3852, 3854]  \n",
    "\n",
    "# Get the rows at the specified indices\n",
    "rows = DRC.iloc[indices]\n",
    "\n",
    "# Print the rows\n",
    "print(\"Rows at indices\", indices, \":\\n\", rows)"
   ]
  },
  {
   "cell_type": "markdown",
   "metadata": {},
   "source": [
    "20 was typed as 200"
   ]
  },
  {
   "cell_type": "code",
   "execution_count": 19,
   "metadata": {},
   "outputs": [],
   "source": [
    "DRC['day'].replace({'200': 20}, inplace=True)"
   ]
  },
  {
   "cell_type": "markdown",
   "metadata": {},
   "source": [
    "##### Fixing day value 'nine'"
   ]
  },
  {
   "cell_type": "code",
   "execution_count": 20,
   "metadata": {},
   "outputs": [
    {
     "data": {
      "text/plain": [
       "Index([2198], dtype='int64')"
      ]
     },
     "execution_count": 20,
     "metadata": {},
     "output_type": "execute_result"
    }
   ],
   "source": [
    "# Get the index of row(s) where the \"day\" column has the value 200\n",
    "index_nine = DRC[DRC['day'] == 'nine'].index\n",
    "index_nine"
   ]
  },
  {
   "cell_type": "code",
   "execution_count": 21,
   "metadata": {},
   "outputs": [
    {
     "name": "stdout",
     "output_type": "stream",
     "text": [
      "Rows at indices [2197, 2199] :\n",
      "       year month day  Rainfall_mm\n",
      "2197  2019     6   8          0.0\n",
      "2199  2019     6  10          3.0\n"
     ]
    }
   ],
   "source": [
    "# check the rows right before and after row index 2198. \n",
    "indices = [2197, 2199]  \n",
    "\n",
    "# Get the rows at the specified indices\n",
    "rows = DRC.iloc[indices]\n",
    "\n",
    "# Print the rows\n",
    "print(\"Rows at indices\", indices, \":\\n\", rows)"
   ]
  },
  {
   "cell_type": "markdown",
   "metadata": {},
   "source": [
    "9 was typed as nine"
   ]
  },
  {
   "cell_type": "code",
   "execution_count": 22,
   "metadata": {},
   "outputs": [],
   "source": [
    "DRC['day'].replace({'nine': 9}, inplace=True)"
   ]
  },
  {
   "cell_type": "markdown",
   "metadata": {},
   "source": [
    "#### For Column 4: 'rainfall_mm'"
   ]
  },
  {
   "cell_type": "code",
   "execution_count": 23,
   "metadata": {},
   "outputs": [
    {
     "data": {
      "text/plain": [
       "Rainfall_mm\n",
       "-10.0           1\n",
       " 0.0         2312\n",
       " 0.2          271\n",
       " 0.4          128\n",
       " 0.6           95\n",
       "             ... \n",
       " 43.8           1\n",
       " 44.0           1\n",
       " 45.4           1\n",
       " 54.6           1\n",
       " 100000.0       1\n",
       "Name: count, Length: 135, dtype: int64"
      ]
     },
     "execution_count": 23,
     "metadata": {},
     "output_type": "execute_result"
    }
   ],
   "source": [
    "DRC['Rainfall_mm'].value_counts().sort_index()"
   ]
  },
  {
   "cell_type": "markdown",
   "metadata": {},
   "source": [
    "Clearly, it is hard to check for data entry errors on continous float values. On first glance, we do notice the -10 and 100000 value which is impossible. Hence, lets move to step 2, where we check for impossible values/sanity check"
   ]
  },
  {
   "cell_type": "markdown",
   "metadata": {},
   "source": [
    "### Step 2: Handle Impossible values and sanity check"
   ]
  },
  {
   "cell_type": "markdown",
   "metadata": {},
   "source": [
    "For 'Rainfall amount (millimetres)' column, lets check for negative values or values greater than a certain threshold. To determine a threshold, lets chek the second highest value -"
   ]
  },
  {
   "cell_type": "code",
   "execution_count": 24,
   "metadata": {},
   "outputs": [
    {
     "data": {
      "text/plain": [
       "100000.0"
      ]
     },
     "execution_count": 24,
     "metadata": {},
     "output_type": "execute_result"
    }
   ],
   "source": [
    "DRC['Rainfall_mm'].nlargest(1).iloc[-1]"
   ]
  },
  {
   "cell_type": "markdown",
   "metadata": {},
   "source": [
    "Lets conveniently set the rainfall amount threshold value to 100 mm and Replace negative values with 0 and values greater than 100 with mean rainfall using the following code -"
   ]
  },
  {
   "cell_type": "code",
   "execution_count": 25,
   "metadata": {},
   "outputs": [
    {
     "name": "stdout",
     "output_type": "stream",
     "text": [
      "Minimum value in 'Rainfall amount' column after replacement: 0.0\n",
      "Maximum value in 'Rainfall amount' column after replacement: 54.6\n"
     ]
    }
   ],
   "source": [
    "# Calculate mean from a filtered data with no null values, values less than 0, and values greater than 100 of \"Rainfall amount\" column\n",
    "filtered_data = DRC.dropna(subset=['Rainfall_mm'])\n",
    "filtered_data = filtered_data[(filtered_data['Rainfall_mm'] >= 0) & (filtered_data['Rainfall_mm'] <= 100)]\n",
    "\n",
    "import numpy as np # For simplicity,and extensive functionality in handling numerical data.\n",
    "\n",
    "# Calculate the mean of the \"Rainfall amount\" column\n",
    "rainfall_mean = filtered_data['Rainfall_mm'].mean()\n",
    "rainfall_mean = round(rainfall_mean,1)\n",
    "\n",
    "# Replace values less than 0 and greater than 100 with the mean\n",
    "DRC.loc[DRC['Rainfall_mm'] < 0, 'Rainfall_mm'] = rainfall_mean\n",
    "DRC.loc[DRC['Rainfall_mm'] > 100, 'Rainfall_mm'] = rainfall_mean\n",
    "\n",
    "# Verify that the replacement is done\n",
    "print(\"Minimum value in 'Rainfall amount' column after replacement:\", DRC['Rainfall_mm'].min())\n",
    "print(\"Maximum value in 'Rainfall amount' column after replacement:\", DRC['Rainfall_mm'].max())"
   ]
  },
  {
   "cell_type": "markdown",
   "metadata": {},
   "source": [
    "### Step 3: Handle Missing Values"
   ]
  },
  {
   "cell_type": "markdown",
   "metadata": {},
   "source": [
    "Lets check for missing values in all 4 columns - "
   ]
  },
  {
   "cell_type": "code",
   "execution_count": 26,
   "metadata": {},
   "outputs": [
    {
     "name": "stdout",
     "output_type": "stream",
     "text": [
      "\n",
      "Missing values in the dataset:\n",
      "year           0\n",
      "month          1\n",
      "day            1\n",
      "Rainfall_mm    5\n",
      "dtype: int64\n"
     ]
    }
   ],
   "source": [
    "# Check for missing values\n",
    "print(\"\\nMissing values in the dataset:\")\n",
    "print(DRC.isnull().sum())"
   ]
  },
  {
   "cell_type": "markdown",
   "metadata": {},
   "source": [
    "#### For month column"
   ]
  },
  {
   "cell_type": "markdown",
   "metadata": {},
   "source": [
    "Get the record with the missing value"
   ]
  },
  {
   "cell_type": "code",
   "execution_count": 27,
   "metadata": {},
   "outputs": [
    {
     "data": {
      "text/html": [
       "<div>\n",
       "<style scoped>\n",
       "    .dataframe tbody tr th:only-of-type {\n",
       "        vertical-align: middle;\n",
       "    }\n",
       "\n",
       "    .dataframe tbody tr th {\n",
       "        vertical-align: top;\n",
       "    }\n",
       "\n",
       "    .dataframe thead th {\n",
       "        text-align: right;\n",
       "    }\n",
       "</style>\n",
       "<table border=\"1\" class=\"dataframe\">\n",
       "  <thead>\n",
       "    <tr style=\"text-align: right;\">\n",
       "      <th></th>\n",
       "      <th>year</th>\n",
       "      <th>month</th>\n",
       "      <th>day</th>\n",
       "      <th>Rainfall_mm</th>\n",
       "    </tr>\n",
       "  </thead>\n",
       "  <tbody>\n",
       "    <tr>\n",
       "      <th>2067</th>\n",
       "      <td>2019</td>\n",
       "      <td>NaN</td>\n",
       "      <td>29</td>\n",
       "      <td>0.0</td>\n",
       "    </tr>\n",
       "  </tbody>\n",
       "</table>\n",
       "</div>"
      ],
      "text/plain": [
       "      year month day  Rainfall_mm\n",
       "2067  2019   NaN  29          0.0"
      ]
     },
     "execution_count": 27,
     "metadata": {},
     "output_type": "execute_result"
    }
   ],
   "source": [
    "DRC[DRC.month.isnull() == 1]"
   ]
  },
  {
   "cell_type": "code",
   "execution_count": 28,
   "metadata": {},
   "outputs": [
    {
     "name": "stdout",
     "output_type": "stream",
     "text": [
      "Rows at indices [2066, 2068] :\n",
      "       year month day  Rainfall_mm\n",
      "2066  2019     1  28          0.0\n",
      "2068  2019     1  30          0.0\n"
     ]
    }
   ],
   "source": [
    "# Lets check the rows right before row index 2067 \n",
    "indices = [2066, 2068]  \n",
    "\n",
    "# Get the rows at the specified indices\n",
    "rows = DRC.iloc[indices]\n",
    "\n",
    "# Print the rows\n",
    "print(\"Rows at indices\", indices, \":\\n\", rows)"
   ]
  },
  {
   "cell_type": "markdown",
   "metadata": {},
   "source": [
    "Thus, row index 2067 should have month as 1. Lets impute this value"
   ]
  },
  {
   "cell_type": "code",
   "execution_count": 29,
   "metadata": {},
   "outputs": [
    {
     "name": "stdout",
     "output_type": "stream",
     "text": [
      "Missing values in 'month' column after imputation:\n",
      " 0\n"
     ]
    }
   ],
   "source": [
    "# Impute missing values in the \"Month\" column with the value 1\n",
    "DRC['month'] = DRC['month'].fillna(1)\n",
    "\n",
    "# Verify that missing values in the \"Month\" column have been filled with 1\n",
    "print(\"Missing values in 'month' column after imputation:\\n\", DRC['month'].isnull().sum())"
   ]
  },
  {
   "cell_type": "markdown",
   "metadata": {},
   "source": [
    "#### For day column"
   ]
  },
  {
   "cell_type": "markdown",
   "metadata": {},
   "source": [
    "Get the record with the missing value"
   ]
  },
  {
   "cell_type": "code",
   "execution_count": 30,
   "metadata": {},
   "outputs": [
    {
     "data": {
      "text/html": [
       "<div>\n",
       "<style scoped>\n",
       "    .dataframe tbody tr th:only-of-type {\n",
       "        vertical-align: middle;\n",
       "    }\n",
       "\n",
       "    .dataframe tbody tr th {\n",
       "        vertical-align: top;\n",
       "    }\n",
       "\n",
       "    .dataframe thead th {\n",
       "        text-align: right;\n",
       "    }\n",
       "</style>\n",
       "<table border=\"1\" class=\"dataframe\">\n",
       "  <thead>\n",
       "    <tr style=\"text-align: right;\">\n",
       "      <th></th>\n",
       "      <th>year</th>\n",
       "      <th>month</th>\n",
       "      <th>day</th>\n",
       "      <th>Rainfall_mm</th>\n",
       "    </tr>\n",
       "  </thead>\n",
       "  <tbody>\n",
       "    <tr>\n",
       "      <th>1736</th>\n",
       "      <td>2018</td>\n",
       "      <td>3</td>\n",
       "      <td>NaN</td>\n",
       "      <td>0.0</td>\n",
       "    </tr>\n",
       "  </tbody>\n",
       "</table>\n",
       "</div>"
      ],
      "text/plain": [
       "      year month  day  Rainfall_mm\n",
       "1736  2018     3  NaN          0.0"
      ]
     },
     "execution_count": 30,
     "metadata": {},
     "output_type": "execute_result"
    }
   ],
   "source": [
    "DRC[DRC.day.isnull() == 1]"
   ]
  },
  {
   "cell_type": "markdown",
   "metadata": {},
   "source": [
    "Thus, row index 1736 should have day as 4. Lets impute this value"
   ]
  },
  {
   "cell_type": "code",
   "execution_count": 31,
   "metadata": {},
   "outputs": [
    {
     "name": "stdout",
     "output_type": "stream",
     "text": [
      "Missing values in 'day' column after imputation:\n",
      " 0\n"
     ]
    }
   ],
   "source": [
    "# Impute missing values in the \"Month\" column with the value 4\n",
    "DRC['day'] = DRC['day'].fillna(4)\n",
    "\n",
    "# Verify that missing values in the \"Month\" column have been filled with 1\n",
    "print(\"Missing values in 'day' column after imputation:\\n\", DRC['day'].isnull().sum())"
   ]
  },
  {
   "cell_type": "markdown",
   "metadata": {},
   "source": [
    "#### For Rainfall Amount column"
   ]
  },
  {
   "cell_type": "markdown",
   "metadata": {},
   "source": [
    "Lets first check the distribution of Rainfall Amount since imputing missing values with the median is preferred for skewed distributions because it is more robust to outliers, preserves the distribution shape, and helps avoid bias introduced by extreme values."
   ]
  },
  {
   "cell_type": "code",
   "execution_count": 32,
   "metadata": {},
   "outputs": [
    {
     "data": {
      "image/png": "[encoded data removed]",
      "text/plain": [
       "<Figure size 1000x600 with 1 Axes>"
      ]
     },
     "metadata": {},
     "output_type": "display_data"
    }
   ],
   "source": [
    "# Handling missing values from Rainfall amount column\n",
    "import matplotlib.pyplot as plt\n",
    "\n",
    "# Plot histogram of the \"Rainfall amount\" column\n",
    "plt.figure(figsize=(10, 6))\n",
    "plt.hist(DRC['Rainfall_mm'], color='skyblue', edgecolor='black', bins = 50)\n",
    "plt.title('Histogram of Rainfall Amount')\n",
    "plt.xlabel('Rainfall amount (millimetres)')\n",
    "plt.ylabel('Frequency')\n",
    "plt.show()"
   ]
  },
  {
   "cell_type": "markdown",
   "metadata": {},
   "source": [
    "Since the distribution is skewed, lets impute the missing values in Rainfall amount column with the median value rather than mean"
   ]
  },
  {
   "cell_type": "code",
   "execution_count": 33,
   "metadata": {},
   "outputs": [],
   "source": [
    "# Calculate median value of rainfall_mm column\n",
    "median_rainfall = DRC['Rainfall_mm'].median() # median is 0.\n",
    "\n",
    "# Impute missing values in rainfall_mm column with median value\n",
    "DRC['Rainfall_mm'].fillna(median_rainfall, inplace=True)"
   ]
  },
  {
   "cell_type": "markdown",
   "metadata": {},
   "source": [
    "Lets check if all the missing values are fixed"
   ]
  },
  {
   "cell_type": "code",
   "execution_count": 34,
   "metadata": {},
   "outputs": [
    {
     "name": "stdout",
     "output_type": "stream",
     "text": [
      "\n",
      "Missing values in the dataset:\n",
      "year           0\n",
      "month          0\n",
      "day            0\n",
      "Rainfall_mm    0\n",
      "dtype: int64\n"
     ]
    }
   ],
   "source": [
    "# Check for missing values\n",
    "print(\"\\nMissing values in the dataset:\")\n",
    "print(DRC.isnull().sum())"
   ]
  },
  {
   "cell_type": "markdown",
   "metadata": {},
   "source": [
    "### Step 4: Handle duplicate Values"
   ]
  },
  {
   "cell_type": "markdown",
   "metadata": {},
   "source": [
    "Lets check for duplicate records in the dataframe using duplicated(). Get a count of the duplicates by summing up the duplicate counts"
   ]
  },
  {
   "cell_type": "code",
   "execution_count": 35,
   "metadata": {},
   "outputs": [
    {
     "name": "stdout",
     "output_type": "stream",
     "text": [
      "\n",
      "Duplicate rows in the dataset: 0\n"
     ]
    }
   ],
   "source": [
    "# Check for duplicates\n",
    "print(\"\\nDuplicate rows in the dataset:\", DRC.duplicated().sum())"
   ]
  },
  {
   "cell_type": "markdown",
   "metadata": {},
   "source": [
    "**No duplicates** in our dataset"
   ]
  },
  {
   "cell_type": "markdown",
   "metadata": {},
   "source": [
    "### Step 5: Check Data Formatting"
   ]
  },
  {
   "cell_type": "markdown",
   "metadata": {},
   "source": [
    "Data Formatting: Ensure that data types are appropriate for each column. That is, year, month and day values should be in integer format. And Rainfall amount in float format"
   ]
  },
  {
   "cell_type": "code",
   "execution_count": 36,
   "metadata": {},
   "outputs": [
    {
     "name": "stdout",
     "output_type": "stream",
     "text": [
      "\n",
      "Data types of columns:\n",
      "year             int64\n",
      "month           object\n",
      "day             object\n",
      "Rainfall_mm    float64\n",
      "dtype: object\n"
     ]
    }
   ],
   "source": [
    "# Check data types of columns\n",
    "print(\"\\nData types of columns:\")\n",
    "print(DRC.dtypes)"
   ]
  },
  {
   "cell_type": "code",
   "execution_count": 37,
   "metadata": {},
   "outputs": [],
   "source": [
    "# Convert Month, and Day columns to integers\n",
    "DRC['month'] = DRC['month'].astype(int)\n",
    "DRC['day'] = DRC['day'].astype(int)"
   ]
  },
  {
   "cell_type": "code",
   "execution_count": 38,
   "metadata": {},
   "outputs": [
    {
     "name": "stdout",
     "output_type": "stream",
     "text": [
      "year             int64\n",
      "month            int32\n",
      "day              int32\n",
      "Rainfall_mm    float64\n",
      "dtype: object\n"
     ]
    }
   ],
   "source": [
    "print(DRC.dtypes)"
   ]
  },
  {
   "cell_type": "markdown",
   "metadata": {},
   "source": [
    "### Step 6: Handle Outliers"
   ]
  },
  {
   "cell_type": "markdown",
   "metadata": {},
   "source": [
    "\n",
    "We can identify outliers in the four columns by employing boxplots and visually examining them. Despite recognizing that outliers would be unlikely in the year, month, and day columns, let's still include them for the sake of practice."
   ]
  },
  {
   "cell_type": "code",
   "execution_count": 39,
   "metadata": {},
   "outputs": [
    {
     "data": {
      "image/png": "[encoded data removed]",
      "text/plain": [
       "<Figure size 1200x800 with 4 Axes>"
      ]
     },
     "metadata": {},
     "output_type": "display_data"
    }
   ],
   "source": [
    "numeric_columns = ['year', 'month', 'day', 'Rainfall_mm']\n",
    "\n",
    "import seaborn as sns\n",
    "\n",
    "# Creating boxplots for each numeric column to visualize outliers\n",
    "plt.figure(figsize=(12, 8))\n",
    "for i, column in enumerate(numeric_columns, 1):\n",
    "    plt.subplot(2, 2, i)\n",
    "    sns.boxplot(x=DRC[column], color='skyblue')\n",
    "    plt.title(f'Boxplot of {column}')\n",
    "    plt.xlabel('')\n",
    "plt.tight_layout()\n",
    "plt.show()"
   ]
  },
  {
   "cell_type": "markdown",
   "metadata": {},
   "source": [
    "Clearly, year, month and day columns have zero outliers and it obvious. Focusing on the boxplot of Rainfall amount alone,"
   ]
  },
  {
   "cell_type": "code",
   "execution_count": 40,
   "metadata": {},
   "outputs": [
    {
     "data": {
      "image/png": "[encoded data removed]",
      "text/plain": [
       "<Figure size 800x600 with 1 Axes>"
      ]
     },
     "metadata": {},
     "output_type": "display_data"
    }
   ],
   "source": [
    "# Selecting the \"Rainfall amount (millimetres)\" column\n",
    "rainfall_column = DRC['Rainfall_mm']\n",
    "\n",
    "# Creating a boxplot to visualize outliers in the \"Rainfall amount (millimetres)\" column\n",
    "plt.figure(figsize=(8, 6))\n",
    "sns.boxplot(x=rainfall_column, color='skyblue')\n",
    "plt.title('Boxplot of Rainfall Amount (millimetres)')\n",
    "plt.xlabel('Rainfall amount (millimetres)')\n",
    "plt.show()"
   ]
  },
  {
   "cell_type": "markdown",
   "metadata": {},
   "source": [
    "We observe that a significant portion of the records are classified as outliers. This is primarily due to the dominance of the value count for rainfall amounts ranging from 0 to 1 mm compared to the count for rainfall amounts exceeding 1 mm."
   ]
  },
  {
   "cell_type": "code",
   "execution_count": 41,
   "metadata": {},
   "outputs": [
    {
     "data": {
      "text/plain": [
       "Rainfall_mm\n",
       "0.0     2317\n",
       "0.2      271\n",
       "0.4      128\n",
       "0.6       95\n",
       "0.8       75\n",
       "        ... \n",
       "16.2       1\n",
       "16.6       1\n",
       "41.2       1\n",
       "44.0       1\n",
       "38.4       1\n",
       "Name: count, Length: 133, dtype: int64"
      ]
     },
     "execution_count": 41,
     "metadata": {},
     "output_type": "execute_result"
    }
   ],
   "source": [
    "DRC['Rainfall_mm'].value_counts()"
   ]
  },
  {
   "cell_type": "markdown",
   "metadata": {},
   "source": [
    "Finally, lets check if we lost any record during data prepartion stage. Remember, our dataset had 3865 rows and 4 columns. Lets check this again -"
   ]
  },
  {
   "cell_type": "code",
   "execution_count": 42,
   "metadata": {},
   "outputs": [
    {
     "data": {
      "text/plain": [
       "(3865, 4)"
      ]
     },
     "execution_count": 42,
     "metadata": {},
     "output_type": "execute_result"
    }
   ],
   "source": [
    "DRC.shape"
   ]
  },
  {
   "cell_type": "markdown",
   "metadata": {},
   "source": [
    "Note, since there are no string type columns, we will not be checking for white spaces in our dataset"
   ]
  },
  {
   "cell_type": "markdown",
   "metadata": {},
   "source": [
    "**OUR DATA IS CLEAN NOW**"
   ]
  },
  {
   "cell_type": "markdown",
   "metadata": {},
   "source": [
    "##### Write the cleaned data into a comma-separated values (csv) file(s) accordingly, e.g. (file can be named as ‘cleaned version.csv’)."
   ]
  },
  {
   "cell_type": "code",
   "execution_count": 43,
   "metadata": {},
   "outputs": [
    {
     "name": "stdout",
     "output_type": "stream",
     "text": [
      "\n",
      "Cleaned data has been written to: cleaned_version.csv\n"
     ]
    }
   ],
   "source": [
    "# Write the cleaned data into a new CSV file\n",
    "cleaned_file_path = \"cleaned_version.csv\"\n",
    "DRC.to_csv(cleaned_file_path, index=False)\n",
    "\n",
    "print(\"\\nCleaned data has been written to:\", cleaned_file_path)"
   ]
  },
  {
   "cell_type": "markdown",
   "metadata": {
    "id": "r-i5aIqXpPbu"
   },
   "source": [
    "# Task 2: Data Exploration"
   ]
  },
  {
   "cell_type": "markdown",
   "metadata": {
    "id": "QOY4K_neos9j"
   },
   "source": [
    "## Task 2.1 "
   ]
  },
  {
   "cell_type": "markdown",
   "metadata": {},
   "source": [
    "Prepare and convert the data in 2014 as a pandas DataFrame with rows as the days in a month and columns as the months in a year (e.g. row 1 contains the rainfall data in the 1st day of each month; row 2 contains the rainfall data in the 2nd day of each month, ...). Then, explore the highest daily rainfall in each month."
   ]
  },
  {
   "cell_type": "markdown",
   "metadata": {},
   "source": [
    "Code below achieves the above require dataframe -"
   ]
  },
  {
   "cell_type": "code",
   "execution_count": 44,
   "metadata": {
    "id": "ziwtOfWJn-Eh"
   },
   "outputs": [
    {
     "data": {
      "text/plain": [
       "(365, 4)"
      ]
     },
     "execution_count": 44,
     "metadata": {},
     "output_type": "execute_result"
    }
   ],
   "source": [
    "# Filter data for the year 2014\n",
    "DRC_2014 = DRC[DRC['year'] == 2014]\n",
    "DRC_2014.shape"
   ]
  },
  {
   "cell_type": "code",
   "execution_count": 45,
   "metadata": {},
   "outputs": [
    {
     "data": {
      "text/html": [
       "<div>\n",
       "<style scoped>\n",
       "    .dataframe tbody tr th:only-of-type {\n",
       "        vertical-align: middle;\n",
       "    }\n",
       "\n",
       "    .dataframe tbody tr th {\n",
       "        vertical-align: top;\n",
       "    }\n",
       "\n",
       "    .dataframe thead th {\n",
       "        text-align: right;\n",
       "    }\n",
       "</style>\n",
       "<table border=\"1\" class=\"dataframe\">\n",
       "  <thead>\n",
       "    <tr style=\"text-align: right;\">\n",
       "      <th>month</th>\n",
       "      <th>1</th>\n",
       "      <th>2</th>\n",
       "      <th>3</th>\n",
       "      <th>4</th>\n",
       "      <th>5</th>\n",
       "      <th>6</th>\n",
       "      <th>7</th>\n",
       "      <th>8</th>\n",
       "      <th>9</th>\n",
       "      <th>10</th>\n",
       "      <th>11</th>\n",
       "      <th>12</th>\n",
       "    </tr>\n",
       "    <tr>\n",
       "      <th>day</th>\n",
       "      <th></th>\n",
       "      <th></th>\n",
       "      <th></th>\n",
       "      <th></th>\n",
       "      <th></th>\n",
       "      <th></th>\n",
       "      <th></th>\n",
       "      <th></th>\n",
       "      <th></th>\n",
       "      <th></th>\n",
       "      <th></th>\n",
       "      <th></th>\n",
       "    </tr>\n",
       "  </thead>\n",
       "  <tbody>\n",
       "    <tr>\n",
       "      <th>1</th>\n",
       "      <td>0.0</td>\n",
       "      <td>0.0</td>\n",
       "      <td>0.0</td>\n",
       "      <td>0.0</td>\n",
       "      <td>0.0</td>\n",
       "      <td>3.8</td>\n",
       "      <td>0.4</td>\n",
       "      <td>5.2</td>\n",
       "      <td>0.0</td>\n",
       "      <td>2.6</td>\n",
       "      <td>6.0</td>\n",
       "      <td>0.0</td>\n",
       "    </tr>\n",
       "    <tr>\n",
       "      <th>2</th>\n",
       "      <td>5.2</td>\n",
       "      <td>0.0</td>\n",
       "      <td>0.0</td>\n",
       "      <td>0.0</td>\n",
       "      <td>0.0</td>\n",
       "      <td>3.2</td>\n",
       "      <td>0.0</td>\n",
       "      <td>10.6</td>\n",
       "      <td>10.8</td>\n",
       "      <td>0.0</td>\n",
       "      <td>0.2</td>\n",
       "      <td>0.4</td>\n",
       "    </tr>\n",
       "    <tr>\n",
       "      <th>3</th>\n",
       "      <td>0.0</td>\n",
       "      <td>0.0</td>\n",
       "      <td>0.0</td>\n",
       "      <td>0.2</td>\n",
       "      <td>1.4</td>\n",
       "      <td>3.4</td>\n",
       "      <td>0.0</td>\n",
       "      <td>0.6</td>\n",
       "      <td>0.2</td>\n",
       "      <td>0.6</td>\n",
       "      <td>0.0</td>\n",
       "      <td>0.0</td>\n",
       "    </tr>\n",
       "    <tr>\n",
       "      <th>4</th>\n",
       "      <td>0.0</td>\n",
       "      <td>0.4</td>\n",
       "      <td>0.0</td>\n",
       "      <td>0.0</td>\n",
       "      <td>5.6</td>\n",
       "      <td>1.6</td>\n",
       "      <td>0.0</td>\n",
       "      <td>0.0</td>\n",
       "      <td>0.0</td>\n",
       "      <td>0.2</td>\n",
       "      <td>0.0</td>\n",
       "      <td>9.0</td>\n",
       "    </tr>\n",
       "    <tr>\n",
       "      <th>5</th>\n",
       "      <td>0.2</td>\n",
       "      <td>0.0</td>\n",
       "      <td>0.0</td>\n",
       "      <td>0.0</td>\n",
       "      <td>1.8</td>\n",
       "      <td>4.8</td>\n",
       "      <td>0.0</td>\n",
       "      <td>0.0</td>\n",
       "      <td>0.0</td>\n",
       "      <td>0.0</td>\n",
       "      <td>0.0</td>\n",
       "      <td>0.0</td>\n",
       "    </tr>\n",
       "    <tr>\n",
       "      <th>6</th>\n",
       "      <td>0.8</td>\n",
       "      <td>0.0</td>\n",
       "      <td>0.0</td>\n",
       "      <td>0.0</td>\n",
       "      <td>0.6</td>\n",
       "      <td>2.0</td>\n",
       "      <td>0.2</td>\n",
       "      <td>0.0</td>\n",
       "      <td>0.0</td>\n",
       "      <td>0.0</td>\n",
       "      <td>0.0</td>\n",
       "      <td>2.6</td>\n",
       "    </tr>\n",
       "    <tr>\n",
       "      <th>7</th>\n",
       "      <td>0.0</td>\n",
       "      <td>0.0</td>\n",
       "      <td>0.0</td>\n",
       "      <td>0.0</td>\n",
       "      <td>1.8</td>\n",
       "      <td>0.4</td>\n",
       "      <td>0.0</td>\n",
       "      <td>1.6</td>\n",
       "      <td>0.0</td>\n",
       "      <td>1.0</td>\n",
       "      <td>0.0</td>\n",
       "      <td>14.8</td>\n",
       "    </tr>\n",
       "    <tr>\n",
       "      <th>8</th>\n",
       "      <td>0.0</td>\n",
       "      <td>0.0</td>\n",
       "      <td>0.0</td>\n",
       "      <td>0.0</td>\n",
       "      <td>0.0</td>\n",
       "      <td>1.0</td>\n",
       "      <td>0.0</td>\n",
       "      <td>2.6</td>\n",
       "      <td>0.0</td>\n",
       "      <td>1.0</td>\n",
       "      <td>0.0</td>\n",
       "      <td>2.2</td>\n",
       "    </tr>\n",
       "    <tr>\n",
       "      <th>9</th>\n",
       "      <td>0.0</td>\n",
       "      <td>0.0</td>\n",
       "      <td>0.0</td>\n",
       "      <td>13.4</td>\n",
       "      <td>0.0</td>\n",
       "      <td>0.0</td>\n",
       "      <td>0.2</td>\n",
       "      <td>0.0</td>\n",
       "      <td>0.0</td>\n",
       "      <td>0.0</td>\n",
       "      <td>0.2</td>\n",
       "      <td>0.0</td>\n",
       "    </tr>\n",
       "    <tr>\n",
       "      <th>10</th>\n",
       "      <td>0.0</td>\n",
       "      <td>0.0</td>\n",
       "      <td>0.0</td>\n",
       "      <td>18.2</td>\n",
       "      <td>11.0</td>\n",
       "      <td>0.0</td>\n",
       "      <td>5.0</td>\n",
       "      <td>1.4</td>\n",
       "      <td>1.6</td>\n",
       "      <td>0.0</td>\n",
       "      <td>0.0</td>\n",
       "      <td>0.0</td>\n",
       "    </tr>\n",
       "    <tr>\n",
       "      <th>11</th>\n",
       "      <td>0.0</td>\n",
       "      <td>0.0</td>\n",
       "      <td>0.0</td>\n",
       "      <td>10.2</td>\n",
       "      <td>1.8</td>\n",
       "      <td>0.0</td>\n",
       "      <td>1.2</td>\n",
       "      <td>6.0</td>\n",
       "      <td>2.4</td>\n",
       "      <td>0.0</td>\n",
       "      <td>0.0</td>\n",
       "      <td>0.8</td>\n",
       "    </tr>\n",
       "    <tr>\n",
       "      <th>12</th>\n",
       "      <td>0.0</td>\n",
       "      <td>0.0</td>\n",
       "      <td>1.6</td>\n",
       "      <td>0.4</td>\n",
       "      <td>0.0</td>\n",
       "      <td>0.0</td>\n",
       "      <td>4.4</td>\n",
       "      <td>0.6</td>\n",
       "      <td>0.0</td>\n",
       "      <td>0.0</td>\n",
       "      <td>0.0</td>\n",
       "      <td>0.0</td>\n",
       "    </tr>\n",
       "    <tr>\n",
       "      <th>13</th>\n",
       "      <td>0.0</td>\n",
       "      <td>0.0</td>\n",
       "      <td>0.0</td>\n",
       "      <td>0.0</td>\n",
       "      <td>0.0</td>\n",
       "      <td>5.8</td>\n",
       "      <td>2.4</td>\n",
       "      <td>0.2</td>\n",
       "      <td>0.0</td>\n",
       "      <td>4.4</td>\n",
       "      <td>0.0</td>\n",
       "      <td>0.0</td>\n",
       "    </tr>\n",
       "    <tr>\n",
       "      <th>14</th>\n",
       "      <td>0.0</td>\n",
       "      <td>0.0</td>\n",
       "      <td>0.0</td>\n",
       "      <td>0.0</td>\n",
       "      <td>0.0</td>\n",
       "      <td>0.0</td>\n",
       "      <td>0.0</td>\n",
       "      <td>0.8</td>\n",
       "      <td>0.0</td>\n",
       "      <td>6.0</td>\n",
       "      <td>0.0</td>\n",
       "      <td>0.0</td>\n",
       "    </tr>\n",
       "    <tr>\n",
       "      <th>15</th>\n",
       "      <td>0.2</td>\n",
       "      <td>0.0</td>\n",
       "      <td>0.0</td>\n",
       "      <td>0.0</td>\n",
       "      <td>0.0</td>\n",
       "      <td>0.8</td>\n",
       "      <td>0.0</td>\n",
       "      <td>0.0</td>\n",
       "      <td>0.0</td>\n",
       "      <td>0.2</td>\n",
       "      <td>0.0</td>\n",
       "      <td>0.0</td>\n",
       "    </tr>\n",
       "    <tr>\n",
       "      <th>16</th>\n",
       "      <td>0.0</td>\n",
       "      <td>5.8</td>\n",
       "      <td>5.6</td>\n",
       "      <td>0.0</td>\n",
       "      <td>0.0</td>\n",
       "      <td>0.4</td>\n",
       "      <td>2.0</td>\n",
       "      <td>0.0</td>\n",
       "      <td>0.0</td>\n",
       "      <td>0.0</td>\n",
       "      <td>36.6</td>\n",
       "      <td>0.0</td>\n",
       "    </tr>\n",
       "    <tr>\n",
       "      <th>17</th>\n",
       "      <td>0.2</td>\n",
       "      <td>4.8</td>\n",
       "      <td>0.0</td>\n",
       "      <td>0.0</td>\n",
       "      <td>0.0</td>\n",
       "      <td>2.0</td>\n",
       "      <td>0.2</td>\n",
       "      <td>0.0</td>\n",
       "      <td>3.4</td>\n",
       "      <td>3.4</td>\n",
       "      <td>0.6</td>\n",
       "      <td>0.0</td>\n",
       "    </tr>\n",
       "    <tr>\n",
       "      <th>18</th>\n",
       "      <td>0.2</td>\n",
       "      <td>0.0</td>\n",
       "      <td>0.0</td>\n",
       "      <td>0.0</td>\n",
       "      <td>0.0</td>\n",
       "      <td>0.0</td>\n",
       "      <td>2.4</td>\n",
       "      <td>0.0</td>\n",
       "      <td>0.6</td>\n",
       "      <td>0.0</td>\n",
       "      <td>0.0</td>\n",
       "      <td>0.0</td>\n",
       "    </tr>\n",
       "    <tr>\n",
       "      <th>19</th>\n",
       "      <td>0.0</td>\n",
       "      <td>0.0</td>\n",
       "      <td>0.0</td>\n",
       "      <td>2.2</td>\n",
       "      <td>0.0</td>\n",
       "      <td>0.0</td>\n",
       "      <td>0.2</td>\n",
       "      <td>0.2</td>\n",
       "      <td>0.4</td>\n",
       "      <td>0.0</td>\n",
       "      <td>0.0</td>\n",
       "      <td>1.6</td>\n",
       "    </tr>\n",
       "    <tr>\n",
       "      <th>20</th>\n",
       "      <td>0.0</td>\n",
       "      <td>10.4</td>\n",
       "      <td>0.0</td>\n",
       "      <td>0.0</td>\n",
       "      <td>0.0</td>\n",
       "      <td>0.0</td>\n",
       "      <td>0.2</td>\n",
       "      <td>0.0</td>\n",
       "      <td>0.0</td>\n",
       "      <td>0.0</td>\n",
       "      <td>0.0</td>\n",
       "      <td>0.0</td>\n",
       "    </tr>\n",
       "    <tr>\n",
       "      <th>21</th>\n",
       "      <td>0.0</td>\n",
       "      <td>0.0</td>\n",
       "      <td>0.0</td>\n",
       "      <td>0.0</td>\n",
       "      <td>0.8</td>\n",
       "      <td>0.0</td>\n",
       "      <td>0.0</td>\n",
       "      <td>0.0</td>\n",
       "      <td>0.0</td>\n",
       "      <td>0.0</td>\n",
       "      <td>0.8</td>\n",
       "      <td>0.0</td>\n",
       "    </tr>\n",
       "    <tr>\n",
       "      <th>22</th>\n",
       "      <td>0.2</td>\n",
       "      <td>0.6</td>\n",
       "      <td>1.8</td>\n",
       "      <td>5.4</td>\n",
       "      <td>0.0</td>\n",
       "      <td>0.0</td>\n",
       "      <td>0.0</td>\n",
       "      <td>0.0</td>\n",
       "      <td>0.0</td>\n",
       "      <td>0.0</td>\n",
       "      <td>0.0</td>\n",
       "      <td>0.0</td>\n",
       "    </tr>\n",
       "    <tr>\n",
       "      <th>23</th>\n",
       "      <td>0.0</td>\n",
       "      <td>0.0</td>\n",
       "      <td>0.0</td>\n",
       "      <td>4.8</td>\n",
       "      <td>6.2</td>\n",
       "      <td>0.0</td>\n",
       "      <td>0.0</td>\n",
       "      <td>0.0</td>\n",
       "      <td>0.0</td>\n",
       "      <td>0.0</td>\n",
       "      <td>0.0</td>\n",
       "      <td>1.0</td>\n",
       "    </tr>\n",
       "    <tr>\n",
       "      <th>24</th>\n",
       "      <td>1.0</td>\n",
       "      <td>0.0</td>\n",
       "      <td>0.2</td>\n",
       "      <td>0.2</td>\n",
       "      <td>0.0</td>\n",
       "      <td>4.4</td>\n",
       "      <td>0.0</td>\n",
       "      <td>0.6</td>\n",
       "      <td>0.0</td>\n",
       "      <td>0.0</td>\n",
       "      <td>1.2</td>\n",
       "      <td>0.6</td>\n",
       "    </tr>\n",
       "    <tr>\n",
       "      <th>25</th>\n",
       "      <td>5.4</td>\n",
       "      <td>0.0</td>\n",
       "      <td>0.4</td>\n",
       "      <td>0.2</td>\n",
       "      <td>0.6</td>\n",
       "      <td>7.0</td>\n",
       "      <td>0.0</td>\n",
       "      <td>0.8</td>\n",
       "      <td>11.6</td>\n",
       "      <td>0.0</td>\n",
       "      <td>12.6</td>\n",
       "      <td>0.0</td>\n",
       "    </tr>\n",
       "    <tr>\n",
       "      <th>26</th>\n",
       "      <td>0.0</td>\n",
       "      <td>0.0</td>\n",
       "      <td>0.0</td>\n",
       "      <td>0.0</td>\n",
       "      <td>0.0</td>\n",
       "      <td>0.6</td>\n",
       "      <td>0.0</td>\n",
       "      <td>0.2</td>\n",
       "      <td>0.2</td>\n",
       "      <td>0.0</td>\n",
       "      <td>0.0</td>\n",
       "      <td>3.4</td>\n",
       "    </tr>\n",
       "    <tr>\n",
       "      <th>27</th>\n",
       "      <td>0.0</td>\n",
       "      <td>0.4</td>\n",
       "      <td>4.6</td>\n",
       "      <td>0.0</td>\n",
       "      <td>0.0</td>\n",
       "      <td>0.0</td>\n",
       "      <td>1.4</td>\n",
       "      <td>0.0</td>\n",
       "      <td>0.0</td>\n",
       "      <td>22.4</td>\n",
       "      <td>0.0</td>\n",
       "      <td>0.0</td>\n",
       "    </tr>\n",
       "    <tr>\n",
       "      <th>28</th>\n",
       "      <td>0.0</td>\n",
       "      <td>0.0</td>\n",
       "      <td>6.6</td>\n",
       "      <td>0.0</td>\n",
       "      <td>2.2</td>\n",
       "      <td>0.0</td>\n",
       "      <td>0.0</td>\n",
       "      <td>0.0</td>\n",
       "      <td>0.0</td>\n",
       "      <td>3.6</td>\n",
       "      <td>0.0</td>\n",
       "      <td>0.0</td>\n",
       "    </tr>\n",
       "    <tr>\n",
       "      <th>29</th>\n",
       "      <td>0.0</td>\n",
       "      <td>NaN</td>\n",
       "      <td>0.2</td>\n",
       "      <td>0.0</td>\n",
       "      <td>0.0</td>\n",
       "      <td>1.6</td>\n",
       "      <td>0.0</td>\n",
       "      <td>0.0</td>\n",
       "      <td>0.0</td>\n",
       "      <td>0.4</td>\n",
       "      <td>0.0</td>\n",
       "      <td>0.0</td>\n",
       "    </tr>\n",
       "    <tr>\n",
       "      <th>30</th>\n",
       "      <td>0.0</td>\n",
       "      <td>NaN</td>\n",
       "      <td>0.6</td>\n",
       "      <td>12.8</td>\n",
       "      <td>0.0</td>\n",
       "      <td>6.0</td>\n",
       "      <td>0.0</td>\n",
       "      <td>0.0</td>\n",
       "      <td>0.0</td>\n",
       "      <td>0.0</td>\n",
       "      <td>0.0</td>\n",
       "      <td>0.2</td>\n",
       "    </tr>\n",
       "    <tr>\n",
       "      <th>31</th>\n",
       "      <td>0.0</td>\n",
       "      <td>NaN</td>\n",
       "      <td>0.2</td>\n",
       "      <td>NaN</td>\n",
       "      <td>0.0</td>\n",
       "      <td>NaN</td>\n",
       "      <td>0.0</td>\n",
       "      <td>0.0</td>\n",
       "      <td>NaN</td>\n",
       "      <td>0.0</td>\n",
       "      <td>NaN</td>\n",
       "      <td>0.4</td>\n",
       "    </tr>\n",
       "  </tbody>\n",
       "</table>\n",
       "</div>"
      ],
      "text/plain": [
       "month   1     2    3     4     5    6    7     8     9     10    11    12\n",
       "day                                                                      \n",
       "1      0.0   0.0  0.0   0.0   0.0  3.8  0.4   5.2   0.0   2.6   6.0   0.0\n",
       "2      5.2   0.0  0.0   0.0   0.0  3.2  0.0  10.6  10.8   0.0   0.2   0.4\n",
       "3      0.0   0.0  0.0   0.2   1.4  3.4  0.0   0.6   0.2   0.6   0.0   0.0\n",
       "4      0.0   0.4  0.0   0.0   5.6  1.6  0.0   0.0   0.0   0.2   0.0   9.0\n",
       "5      0.2   0.0  0.0   0.0   1.8  4.8  0.0   0.0   0.0   0.0   0.0   0.0\n",
       "6      0.8   0.0  0.0   0.0   0.6  2.0  0.2   0.0   0.0   0.0   0.0   2.6\n",
       "7      0.0   0.0  0.0   0.0   1.8  0.4  0.0   1.6   0.0   1.0   0.0  14.8\n",
       "8      0.0   0.0  0.0   0.0   0.0  1.0  0.0   2.6   0.0   1.0   0.0   2.2\n",
       "9      0.0   0.0  0.0  13.4   0.0  0.0  0.2   0.0   0.0   0.0   0.2   0.0\n",
       "10     0.0   0.0  0.0  18.2  11.0  0.0  5.0   1.4   1.6   0.0   0.0   0.0\n",
       "11     0.0   0.0  0.0  10.2   1.8  0.0  1.2   6.0   2.4   0.0   0.0   0.8\n",
       "12     0.0   0.0  1.6   0.4   0.0  0.0  4.4   0.6   0.0   0.0   0.0   0.0\n",
       "13     0.0   0.0  0.0   0.0   0.0  5.8  2.4   0.2   0.0   4.4   0.0   0.0\n",
       "14     0.0   0.0  0.0   0.0   0.0  0.0  0.0   0.8   0.0   6.0   0.0   0.0\n",
       "15     0.2   0.0  0.0   0.0   0.0  0.8  0.0   0.0   0.0   0.2   0.0   0.0\n",
       "16     0.0   5.8  5.6   0.0   0.0  0.4  2.0   0.0   0.0   0.0  36.6   0.0\n",
       "17     0.2   4.8  0.0   0.0   0.0  2.0  0.2   0.0   3.4   3.4   0.6   0.0\n",
       "18     0.2   0.0  0.0   0.0   0.0  0.0  2.4   0.0   0.6   0.0   0.0   0.0\n",
       "19     0.0   0.0  0.0   2.2   0.0  0.0  0.2   0.2   0.4   0.0   0.0   1.6\n",
       "20     0.0  10.4  0.0   0.0   0.0  0.0  0.2   0.0   0.0   0.0   0.0   0.0\n",
       "21     0.0   0.0  0.0   0.0   0.8  0.0  0.0   0.0   0.0   0.0   0.8   0.0\n",
       "22     0.2   0.6  1.8   5.4   0.0  0.0  0.0   0.0   0.0   0.0   0.0   0.0\n",
       "23     0.0   0.0  0.0   4.8   6.2  0.0  0.0   0.0   0.0   0.0   0.0   1.0\n",
       "24     1.0   0.0  0.2   0.2   0.0  4.4  0.0   0.6   0.0   0.0   1.2   0.6\n",
       "25     5.4   0.0  0.4   0.2   0.6  7.0  0.0   0.8  11.6   0.0  12.6   0.0\n",
       "26     0.0   0.0  0.0   0.0   0.0  0.6  0.0   0.2   0.2   0.0   0.0   3.4\n",
       "27     0.0   0.4  4.6   0.0   0.0  0.0  1.4   0.0   0.0  22.4   0.0   0.0\n",
       "28     0.0   0.0  6.6   0.0   2.2  0.0  0.0   0.0   0.0   3.6   0.0   0.0\n",
       "29     0.0   NaN  0.2   0.0   0.0  1.6  0.0   0.0   0.0   0.4   0.0   0.0\n",
       "30     0.0   NaN  0.6  12.8   0.0  6.0  0.0   0.0   0.0   0.0   0.0   0.2\n",
       "31     0.0   NaN  0.2   NaN   0.0  NaN  0.0   0.0   NaN   0.0   NaN   0.4"
      ]
     },
     "execution_count": 45,
     "metadata": {},
     "output_type": "execute_result"
    }
   ],
   "source": [
    "# Create a pivot table to reshape the data with rows as days, and columns and month for 2014 rainfall amount\n",
    "pivot_table = DRC_2014.pivot_table(index='day', columns='month', values='Rainfall_mm')\n",
    "pivot_table"
   ]
  },
  {
   "cell_type": "markdown",
   "metadata": {},
   "source": [
    "##### Lets explore the highest daily rainfall in each month:"
   ]
  },
  {
   "cell_type": "code",
   "execution_count": 46,
   "metadata": {},
   "outputs": [
    {
     "name": "stdout",
     "output_type": "stream",
     "text": [
      "Highest daily rainfall in each month:\n",
      "month\n",
      "1      5.4\n",
      "2     10.4\n",
      "3      6.6\n",
      "4     18.2\n",
      "5     11.0\n",
      "6      7.0\n",
      "7      5.0\n",
      "8     10.6\n",
      "9     11.6\n",
      "10    22.4\n",
      "11    36.6\n",
      "12    14.8\n",
      "dtype: float64\n"
     ]
    }
   ],
   "source": [
    "# Explore the highest daily rainfall in each month\n",
    "\n",
    "# Get highest daily rainfall each month using max()\n",
    "highest_daily_rainfall = pivot_table.max()\n",
    "print(\"Highest daily rainfall in each month:\")\n",
    "print(highest_daily_rainfall)"
   ]
  },
  {
   "cell_type": "markdown",
   "metadata": {},
   "source": [
    "Lets look at few **descriptive statistics** of the highest daily rainfall per month "
   ]
  },
  {
   "cell_type": "code",
   "execution_count": 47,
   "metadata": {},
   "outputs": [
    {
     "name": "stdout",
     "output_type": "stream",
     "text": [
      "Descriptive statistics of the highest rainfall per month for 2014:\n",
      "count    12.000000\n",
      "mean     13.300000\n",
      "std       9.003636\n",
      "min       5.000000\n",
      "25%       6.900000\n",
      "50%      10.800000\n",
      "75%      15.650000\n",
      "max      36.600000\n",
      "dtype: float64\n"
     ]
    }
   ],
   "source": [
    "# Calculate descriptive statistics of the highest rainfall per month for 2014\n",
    "statistics = highest_daily_rainfall.describe()\n",
    "\n",
    "# Print descriptive statistics\n",
    "print(\"Descriptive statistics of the highest rainfall per month for 2014:\")\n",
    "print(statistics)"
   ]
  },
  {
   "cell_type": "markdown",
   "metadata": {},
   "source": [
    "In 2014, the mean highest rainfall per month was 13 mm. The minimum was 5 mm and maximum was 36 mm indicating high variance. "
   ]
  },
  {
   "cell_type": "markdown",
   "metadata": {},
   "source": [
    "Now, lets **visualize** the highest daily rainfall per month "
   ]
  },
  {
   "cell_type": "code",
   "execution_count": 48,
   "metadata": {},
   "outputs": [
    {
     "data": {
      "image/png": "[encoded data removed]",
      "text/plain": [
       "<Figure size 1000x600 with 1 Axes>"
      ]
     },
     "metadata": {},
     "output_type": "display_data"
    }
   ],
   "source": [
    "# Plot highest rainfall in each month\n",
    "plt.figure(figsize=(10, 6))\n",
    "plt.plot(highest_daily_rainfall.index, highest_daily_rainfall.values, marker='o', linestyle='-')\n",
    "\n",
    "# Add value labels to each point\n",
    "for month, rainfall in zip(highest_daily_rainfall.index, highest_daily_rainfall.values):\n",
    "    plt.text(month, rainfall + 1, f'{rainfall:.1f}', ha='center', va='bottom')\n",
    "\n",
    "plt.title('Highest Rainfall in Each Month (2014)')\n",
    "plt.xlabel('Month')\n",
    "plt.ylabel('Rainfall amount (millimetres)')\n",
    "plt.xticks(range(1, 13))  # Set x-axis ticks to represent months\n",
    "plt.ylim(0, 40) \n",
    "plt.grid(True)\n",
    "plt.show()"
   ]
  },
  {
   "cell_type": "markdown",
   "metadata": {},
   "source": [
    "**Interpretation:**\n",
    "\n",
    "The plot clearly illustrates that the peak daily rainfall per month occurred predominantly during the final three months of the year 2014. July exhibited the lowest rainfall, while November experienced the highest rainfall."
   ]
  },
  {
   "cell_type": "markdown",
   "metadata": {
    "id": "0-HLFaWTo7Gr"
   },
   "source": [
    "## Task 2.2 "
   ]
  },
  {
   "cell_type": "markdown",
   "metadata": {
    "id": "k3-8Pbi1n-Ei"
   },
   "source": [
    "Explore the data between 2015 and 2017, and analyse them on both a yearly and monthly basis with visualizations."
   ]
  },
  {
   "cell_type": "markdown",
   "metadata": {},
   "source": [
    "To achieve the above requirement, we will use plotting libraries, matplotlib and seaborn (for heatmap) as shown below -"
   ]
  },
  {
   "cell_type": "code",
   "execution_count": 49,
   "metadata": {},
   "outputs": [
    {
     "data": {
      "text/plain": [
       "(1096, 4)"
      ]
     },
     "execution_count": 49,
     "metadata": {},
     "output_type": "execute_result"
    }
   ],
   "source": [
    "import seaborn as sns # To plot heatmap\n",
    "\n",
    "# Filter data for the years 2015 to 2017\n",
    "data_2015_to_2017 = DRC[(DRC['year'] >= 2015) & (DRC['year'] <= 2017)]\n",
    "data_2015_to_2017.shape"
   ]
  },
  {
   "cell_type": "markdown",
   "metadata": {},
   "source": [
    "#### Yearly Analysis:"
   ]
  },
  {
   "cell_type": "markdown",
   "metadata": {},
   "source": [
    "To analyse the yearly total rainfall between 2015 and 2017, lets plot bar chart. "
   ]
  },
  {
   "cell_type": "code",
   "execution_count": 50,
   "metadata": {},
   "outputs": [
    {
     "data": {
      "image/png": "[encoded data removed]",
      "text/plain": [
       "<Figure size 1000x600 with 1 Axes>"
      ]
     },
     "metadata": {},
     "output_type": "display_data"
    }
   ],
   "source": [
    "# Get total rainfall amount per year\n",
    "yearly_rainfall_2015_to_2017 = data_2015_to_2017.groupby('year')['Rainfall_mm'].sum()\n",
    "\n",
    "# Plot yearly rainfall\n",
    "plt.figure(figsize=(10, 6))\n",
    "bars = yearly_rainfall_2015_to_2017.plot(kind='bar', color='skyblue')\n",
    "plt.title('Yearly Rainfall (2015-2017)')\n",
    "plt.xlabel('Year')\n",
    "plt.ylabel('Total Rainfall (millimetres)')\n",
    "plt.xticks(rotation=45)\n",
    "plt.grid(axis='y')\n",
    "\n",
    "# Add value labels to the plot\n",
    "for bar in bars.patches:\n",
    "    plt.annotate(format(bar.get_height(), '.2f'), \n",
    "                 (bar.get_x() + bar.get_width() / 2, \n",
    "                  bar.get_height()), \n",
    "                 ha='center', va='center', \n",
    "                 xytext=(0, 5), \n",
    "                 textcoords='offset points')\n",
    "\n",
    "plt.tight_layout()\n",
    "plt.show()"
   ]
  },
  {
   "cell_type": "code",
   "execution_count": 51,
   "metadata": {},
   "outputs": [
    {
     "name": "stdout",
     "output_type": "stream",
     "text": [
      "Descriptive statistics of the total yearly rainfall between 2015 and 2017:\n",
      "count      3.000000\n",
      "mean     546.933333\n",
      "std       93.307520\n",
      "min      439.200000\n",
      "25%      519.400000\n",
      "50%      599.600000\n",
      "75%      600.800000\n",
      "max      602.000000\n",
      "Name: Rainfall_mm, dtype: float64\n"
     ]
    }
   ],
   "source": [
    "# Print descriptive statistics\n",
    "print(\"Descriptive statistics of the total yearly rainfall between 2015 and 2017:\")\n",
    "print(yearly_rainfall_2015_to_2017.describe())"
   ]
  },
  {
   "cell_type": "markdown",
   "metadata": {},
   "source": [
    "**Interpretation:**\n",
    "\n",
    "Based on the bar chart and the descriptive statistics, in 2017, the total rainfall for the year was the highest at 602 mm, just slightly more than the 599 mm recorded in 2016. In contrast, 2015 had a lower rainfall total of only 439 mm. The average rainfall over the 3 years was 547 mm."
   ]
  },
  {
   "cell_type": "markdown",
   "metadata": {},
   "source": [
    "#### Monthly Analysis:"
   ]
  },
  {
   "cell_type": "markdown",
   "metadata": {},
   "source": [
    "To analyse the monthly total rainfall between 2015 and 2017, lets use heatmap. "
   ]
  },
  {
   "cell_type": "code",
   "execution_count": 52,
   "metadata": {},
   "outputs": [
    {
     "data": {
      "image/png": "[encoded data removed]",
      "text/plain": [
       "<Figure size 1200x600 with 2 Axes>"
      ]
     },
     "metadata": {},
     "output_type": "display_data"
    }
   ],
   "source": [
    "# For the monthly analysis, we group the data by both year and month, calculate the total rainfall for each month, and reshape the data using the unstack method.\n",
    "monthly_rainfall = data_2015_to_2017.groupby(['year', 'month'])['Rainfall_mm'].sum().unstack()\n",
    "\n",
    "# Plot monthly rainfall\n",
    "plt.figure(figsize=(12, 6))\n",
    "heatmap = sns.heatmap(monthly_rainfall, cmap='Blues', annot=True, fmt=\".1f\", linewidths=.5)\n",
    "\n",
    "# Add value labels to each cell\n",
    "for i in range(len(monthly_rainfall)):\n",
    "    for j in range(len(monthly_rainfall.columns)):\n",
    "        heatmap.text(j + 0.5, i + 0.5, f'{monthly_rainfall.iloc[i, j]:.1f}', ha='center', va='center', color='black')\n",
    "\n",
    "plt.title('Monthly Rainfall in mm (2015-2017)')\n",
    "plt.xlabel('Month')\n",
    "plt.ylabel('Year')\n",
    "plt.yticks(rotation=0)\n",
    "plt.tight_layout()\n",
    "plt.show()"
   ]
  },
  {
   "cell_type": "markdown",
   "metadata": {},
   "source": [
    "Additionally, lets plot a trend chart -"
   ]
  },
  {
   "cell_type": "code",
   "execution_count": 53,
   "metadata": {},
   "outputs": [
    {
     "data": {
      "image/png": "[encoded data removed]",
      "text/plain": [
       "<Figure size 1200x600 with 1 Axes>"
      ]
     },
     "metadata": {},
     "output_type": "display_data"
    }
   ],
   "source": [
    "# Plot line chart for rainfall per month between 2015 and 2017\n",
    "plt.figure(figsize=(12, 6))\n",
    "for year in [2015, 2016, 2017]:\n",
    "    plt.plot(range(1, 13), monthly_rainfall.loc[year], marker='o', label=str(year))\n",
    "\n",
    "    # Add value labels to each point\n",
    "    for month, rainfall in enumerate(monthly_rainfall.loc[year], start=1):\n",
    "        rounded_rainfall = round(rainfall, 1)\n",
    "        plt.text(month, rainfall + 1, f'{rounded_rainfall:.1f}', ha='center', va='bottom')\n",
    "\n",
    "plt.title('Monthly Rainfall (2015-2017)')\n",
    "plt.xlabel('Month')\n",
    "plt.ylabel('Rainfall amount (millimetres)')\n",
    "plt.xticks(range(1, 13), labels=['Jan', 'Feb', 'Mar', 'Apr', 'May', 'Jun', 'Jul', 'Aug', 'Sep', 'Oct', 'Nov', 'Dec'])\n",
    "plt.legend(title='Year')\n",
    "plt.grid(True)\n",
    "plt.tight_layout()\n",
    "plt.show()"
   ]
  },
  {
   "cell_type": "code",
   "execution_count": 54,
   "metadata": {},
   "outputs": [
    {
     "name": "stdout",
     "output_type": "stream",
     "text": [
      "Descriptive statistics of the total monthly rainfall between 2015 and 2017:\n",
      "count     36.000000\n",
      "mean      45.577778\n",
      "std       25.210101\n",
      "min        9.000000\n",
      "25%       31.200000\n",
      "50%       39.900000\n",
      "75%       53.950000\n",
      "max      128.400000\n",
      "Name: Rainfall_mm, dtype: float64\n"
     ]
    }
   ],
   "source": [
    "# Print descriptive statistics\n",
    "print(\"Descriptive statistics of the total monthly rainfall between 2015 and 2017:\")\n",
    "print(data_2015_to_2017.groupby(['year', 'month'])['Rainfall_mm'].sum().describe())"
   ]
  },
  {
   "cell_type": "markdown",
   "metadata": {},
   "source": [
    "**Interpretation:**\n",
    "\n",
    "Based on the heatmap, trend charts and descriptive statistics,\n",
    "\n",
    "- December 2017 recorded the highest monthly rainfall, reaching 128 mm, followed closely by April of the same year with 123 mm.\n",
    "- Conversely, February 2016 experienced the lowest rainfall, registering only 9 mm.\n",
    "- The average monthly rainfall over the 3 years was 45 mm."
   ]
  },
  {
   "cell_type": "markdown",
   "metadata": {
    "id": "jnasiwOAo_RP"
   },
   "source": [
    "## Task 2.3 "
   ]
  },
  {
   "cell_type": "markdown",
   "metadata": {
    "id": "hHsmCb2gn-Ei"
   },
   "source": [
    "Explore the data, and find the top 3 years with the highest rainfall amount and the top 3 years with the lowest rainfall amount, then compare them."
   ]
  },
  {
   "cell_type": "markdown",
   "metadata": {},
   "source": [
    "To find the top 3 years with the highest and lowest rainfall amounts and compare them, we will : \n",
    "\n",
    "- Group the data by year and calculate the total rainfall for each year.\n",
    "- Sort the years based on rainfall amounts to find the top 3 highest and lowest rainfall years.\n",
    "- Perform descriptive analysis of the rainfall amounts for the top and bottom years.\n",
    "- Visualize the comparison using bar plots."
   ]
  },
  {
   "cell_type": "code",
   "execution_count": 55,
   "metadata": {},
   "outputs": [],
   "source": [
    "# Group the data by year and calculate total rainfall for each year\n",
    "yearly_rainfall = DRC.groupby('year')['Rainfall_mm'].sum()\n",
    "\n",
    "# Find the top 3 years with the highest rainfall\n",
    "top_3_highest_rainfall = yearly_rainfall.nlargest(3)\n",
    "\n",
    "# Find the top 3 years with the lowest rainfall\n",
    "top_3_lowest_rainfall = yearly_rainfall.nsmallest(3)\n",
    "top_3_lowest_rainfall\n",
    "\n",
    "# Perform descriptive analysis of rainfall amounts for the top and bottom years\n",
    "top_3_highest_stats = yearly_rainfall.loc[top_3_highest_rainfall.index].describe()\n",
    "top_3_lowest_stats = yearly_rainfall.loc[top_3_lowest_rainfall.index].describe()"
   ]
  },
  {
   "cell_type": "code",
   "execution_count": 56,
   "metadata": {},
   "outputs": [
    {
     "data": {
      "text/plain": [
       "<Figure size 1000x600 with 0 Axes>"
      ]
     },
     "metadata": {},
     "output_type": "display_data"
    },
    {
     "data": {
      "image/png": "[encoded data removed]",
      "text/plain": [
       "<Figure size 640x480 with 1 Axes>"
      ]
     },
     "metadata": {},
     "output_type": "display_data"
    }
   ],
   "source": [
    "# Create a new DataFrame for visualization\n",
    "comparison_data = pd.concat([top_3_highest_rainfall, top_3_lowest_rainfall], axis=1)\n",
    "comparison_data.columns = ['Top 3 Highest Rainfall', 'Top 3 Lowest Rainfall']\n",
    "\n",
    "\n",
    "# Plotting using horizontal bar plot\n",
    "plt.figure(figsize=(10, 6))\n",
    "comparison_data.plot(kind='barh', color=['skyblue', 'salmon'], legend='reverse')\n",
    "plt.title('Comparison of Top 3 Highest and Lowest Rainfall Years')\n",
    "plt.xlabel('Total Rainfall (millimetres)')\n",
    "plt.ylabel('Year')\n",
    "plt.grid(axis='x')\n",
    "\n",
    "# Add value labels\n",
    "for index, value in enumerate(comparison_data['Top 3 Highest Rainfall'].dropna()): # dropping NaN values. year 2020 has NaN value for the 'Top 3 Lowest Rainfall' column and likewise \n",
    "    plt.text(value, index, f'{value:.0f}', ha='left', va='center', fontsize=9)\n",
    "\n",
    "for index, value in enumerate(comparison_data['Top 3 Lowest Rainfall'].dropna()):\n",
    "    plt.text(value, index + len(comparison_data) // 2, f'{value:.0f}', ha='left', va='center', fontsize=9) # .0f is used to avoid value label exceeding beyond plot area\n",
    "\n",
    "plt.tight_layout()\n",
    "plt.show()"
   ]
  },
  {
   "cell_type": "code",
   "execution_count": 57,
   "metadata": {},
   "outputs": [
    {
     "name": "stdout",
     "output_type": "stream",
     "text": [
      "Descriptive statistics for top 3 highest rainfall years:\n",
      "count      3.000000\n",
      "mean     722.933333\n",
      "std       55.944377\n",
      "min      682.600000\n",
      "25%      691.000000\n",
      "50%      699.400000\n",
      "75%      743.100000\n",
      "max      786.800000\n",
      "Name: Rainfall_mm, dtype: float64\n",
      "\n",
      "Descriptive statistics for top 3 lowest rainfall years:\n",
      "count      3.00000\n",
      "mean     396.60000\n",
      "std       30.68485\n",
      "min      377.60000\n",
      "25%      378.90000\n",
      "50%      380.20000\n",
      "75%      406.10000\n",
      "max      432.00000\n",
      "Name: Rainfall_mm, dtype: float64\n"
     ]
    }
   ],
   "source": [
    "# Print descriptive statistics for the top and bottom years\n",
    "print(\"Descriptive statistics for top 3 highest rainfall years:\")\n",
    "print(top_3_highest_stats)\n",
    "print(\"\\nDescriptive statistics for top 3 lowest rainfall years:\")\n",
    "print(top_3_lowest_stats)"
   ]
  },
  {
   "cell_type": "markdown",
   "metadata": {},
   "source": [
    "**Interpretation:**\n",
    "\n",
    "Based on the horizontal bar chart and descriptive statistics,\r\n",
    "- The years 2019, 2013, and 2014 exhibited the least total rainfall, measuring 378 mm, 380 mm, and 432 mm, respectively.\r\n",
    "- Conversely, the years 2020, 2022, and 2021 recorded the highest rainfall amounts, reaching 787 mm, 699 mm, and 683 mm, respectively.\r\n",
    "- The average highest rainfall among the top three years stands at 722 mm, while the average lowest rainfall among the bottom three years stands at 396 mm. mm."
   ]
  },
  {
   "cell_type": "markdown",
   "metadata": {},
   "source": [
    "## Task 2.4"
   ]
  },
  {
   "cell_type": "markdown",
   "metadata": {},
   "source": [
    "Explore the changes of rainfall in ABC City in the last 10 years."
   ]
  },
  {
   "cell_type": "markdown",
   "metadata": {},
   "source": [
    "To explore the changes in rainfall in ABC City over the last 10 years, lets first filter the data to include only the last 10 years. Group the data by year and calculate the total rainfall for each year. Visualize the yearly rainfall trend over the last 10 years."
   ]
  },
  {
   "cell_type": "code",
   "execution_count": 58,
   "metadata": {},
   "outputs": [
    {
     "data": {
      "image/png": "[encoded data removed]",
      "text/plain": [
       "<Figure size 1000x600 with 1 Axes>"
      ]
     },
     "metadata": {},
     "output_type": "display_data"
    }
   ],
   "source": [
    "# Convert 'Year', 'Month', and 'Day' columns to datetime format\n",
    "DRC['Date'] = pd.to_datetime(DRC[['year', 'month', 'day']])\n",
    "\n",
    "# Convert 'Date' column to datetime format\n",
    "DRC['Date'] = pd.to_datetime(DRC['Date'])\n",
    "\n",
    "# Filter the data to include only the last 10 years\n",
    "last_10_years_data = DRC[DRC['year'] >= DRC['year'].max() - 9]\n",
    "\n",
    "# Group the data by year and calculate total rainfall for each year\n",
    "yearly_rainfall_last_10_years = last_10_years_data.groupby('year')['Rainfall_mm'].sum()\n",
    "\n",
    "# Plotting the yearly rainfall trend over the last 10 years\n",
    "plt.figure(figsize=(10, 6))\n",
    "plt.plot(yearly_rainfall_last_10_years.index, yearly_rainfall_last_10_years.values, marker='o', linestyle='-')\n",
    "plt.title('Yearly Rainfall Trend in ABC City (Last 10 Years)')\n",
    "plt.xlabel('Year')\n",
    "plt.ylabel('Total Rainfall (millimetres)')\n",
    "plt.xticks(yearly_rainfall_last_10_years.index, rotation=45)\n",
    "plt.ylim(350, 850)\n",
    "plt.grid(True)\n",
    "\n",
    "# Add value labels\n",
    "for year, rainfall in zip(yearly_rainfall_last_10_years.index, yearly_rainfall_last_10_years.values):\n",
    "    plt.text(year, rainfall + 10, f'{rainfall:.0f}', ha='center', va='bottom')\n",
    "\n",
    "plt.tight_layout()\n",
    "plt.show()"
   ]
  },
  {
   "cell_type": "code",
   "execution_count": 59,
   "metadata": {},
   "outputs": [
    {
     "name": "stdout",
     "output_type": "stream",
     "text": [
      "Descriptive statistics for last 10 yearly rainfall:\n",
      "count     10.000000\n",
      "mean     570.900000\n",
      "std      131.067557\n",
      "min      377.600000\n",
      "25%      458.000000\n",
      "50%      587.500000\n",
      "75%      662.450000\n",
      "max      786.800000\n",
      "Name: Rainfall_mm, dtype: float64\n"
     ]
    }
   ],
   "source": [
    "# Get descriptive statistics\n",
    "yearly_rainfall_last_10_years_stats = yearly_rainfall_last_10_years.describe()\n",
    "\n",
    "# Print descriptive statistics\n",
    "print(\"Descriptive statistics for last 10 yearly rainfall:\")\n",
    "print(yearly_rainfall_last_10_years_stats)\n"
   ]
  },
  {
   "cell_type": "markdown",
   "metadata": {},
   "source": [
    "**Interpretation:**\n",
    "\n",
    "Based on the trend chart and descriptive statistics,\n",
    "- Throughout the 10-year period, the maximum annual rainfall occurred in 2020, reaching 787 mm, while the minimum was observed in 2019, at 378 mm.\n",
    "- The variation in total annual rainfall over the 10 years does not exhibit a discernible pattern. \n",
    "- On average, the yearly rainfall over the decade amounted to 570 mm.\n",
    "- The spread of data around the mean was measured to be 131 mm.\n"
   ]
  },
  {
   "cell_type": "markdown",
   "metadata": {},
   "source": [
    "---"
   ]
  }
 ],
 "metadata": {
  "colab": {
   "collapsed_sections": [],
   "name": "assignment1_TEMPLATE.ipynb",
   "provenance": [],
   "toc_visible": true
  },
  "kernelspec": {
   "display_name": "Python 3 (ipykernel)",
   "language": "python",
   "name": "python3"
  },
  "language_info": {
   "codemirror_mode": {
    "name": "ipython",
    "version": 3
   },
   "file_extension": ".py",
   "mimetype": "text/x-python",
   "name": "python",
   "nbconvert_exporter": "python",
   "pygments_lexer": "ipython3",
   "version": "3.11.7"
  }
 },
 "nbformat": 4,
 "nbformat_minor": 4
}
